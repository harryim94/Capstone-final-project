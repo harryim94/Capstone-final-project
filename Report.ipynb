{
 "cells": [
  {
   "cell_type": "markdown",
   "metadata": {},
   "source": [
    "# INTRODUCTION"
   ]
  },
  {
   "cell_type": "markdown",
   "metadata": {},
   "source": [
    "As we all know, there are tons of traveller coming to Toronto to see CN tower. \n",
    "I want to open the restruant near CN tower located in Toronto, my business partner wants to figure out\n",
    "\n",
    "1)How many resturant located near CN in range of 3km\n",
    "\n",
    "2)What are their ratings? \n",
    "\n",
    "3)What's weakness of our competitor?\n",
    "\n",
    "4)If we opened a resturant, what should we have for our business strategy?"
   ]
  },
  {
   "cell_type": "markdown",
   "metadata": {},
   "source": [
    "# ASSUMPTION"
   ]
  },
  {
   "cell_type": "markdown",
   "metadata": {},
   "source": [
    "My business partner is a outstanding cheif so we do not worry about taste of food, he was a successful cheif in other location"
   ]
  },
  {
   "cell_type": "markdown",
   "metadata": {},
   "source": [
    "# INTEREST"
   ]
  },
  {
   "cell_type": "markdown",
   "metadata": {},
   "source": [
    "My business partner and I want to know if we will be okay to open resturant near CN tower"
   ]
  },
  {
   "cell_type": "markdown",
   "metadata": {},
   "source": [
    "# DATA/METHODOLOGY"
   ]
  },
  {
   "cell_type": "markdown",
   "metadata": {},
   "source": [
    "We captured all resturants located in 3KM near CN tower from FOURSQUARE.  "
   ]
  },
  {
   "cell_type": "markdown",
   "metadata": {},
   "source": [
    "I used their unique id to gather important informations as below"
   ]
  },
  {
   "cell_type": "markdown",
   "metadata": {},
   "source": [
    "We've found 5 resturatns which need to be explored. We focused on their name, distance, categories, ratings, and tips specifically and tables are given below "
   ]
  },
  {
   "cell_type": "markdown",
   "metadata": {},
   "source": [
    "Name: Name of resturant"
   ]
  },
  {
   "cell_type": "markdown",
   "metadata": {},
   "source": [
    "Distance: How far is it located from CN tower"
   ]
  },
  {
   "cell_type": "markdown",
   "metadata": {},
   "source": [
    "categories: What kind of restruant it is"
   ]
  },
  {
   "cell_type": "markdown",
   "metadata": {},
   "source": [
    "ratings: What's their ratings"
   ]
  },
  {
   "cell_type": "markdown",
   "metadata": {},
   "source": [
    "tips: What are their strongness or weakness"
   ]
  },
  {
   "cell_type": "markdown",
   "metadata": {},
   "source": [
    "| Name | distance | categories | ratings |tips |\n",
    "| --- | --- | --- | ---| ---|\n",
    "|360 Restaurant| 8m | Wine bar| 7.4 | Amazing view, a bit pricey but worth it if you are visiting once|\n",
    "|Houston Restaurant| 942m |Restaurant| NA | NA|\n",
    "|The One Restaurant| 3567m |American Restaurant| NA | NA|\n",
    "|New Treasure Restaurant| 1430m |Dim sum Restaurant| 5.6 | NA|\n",
    "|First Choice Portugese Food| 2773m |Portuguese Restaurant\t| NA | NA|"
   ]
  },
  {
   "cell_type": "markdown",
   "metadata": {},
   "source": [
    "# OBSERVATIONS"
   ]
  },
  {
   "cell_type": "markdown",
   "metadata": {},
   "source": [
    "1)There are total of 5 restaurant\n",
    "\n",
    "2)Only 2 of them has ratings\n",
    "\n",
    "3)Only 1 of them has tips\n",
    "\n",
    "4)\"The One Restaurant\" is the furthest from CN tower\n",
    "\n",
    "5)\"360 Restaurant\" has the best location"
   ]
  },
  {
   "cell_type": "markdown",
   "metadata": {},
   "source": [
    "# CONCLUSION"
   ]
  },
  {
   "cell_type": "markdown",
   "metadata": {},
   "source": [
    "As you can observed, there are only 5 restaurant near CN tower and 3 of them have no ratings neither tips. Only potential competitors are 1st and 4th restaurant, they are \"360 Restaurant\" and \"New Treasure Restaurnat\" since they have some ratings.\n",
    "However, I am confident to decide \"New Treasure Restaurant\" won't be a threat because we can predict that by looking at their tips and ratings. Our business strategy to be successful restaurant is that since \"360 Restaurant\" has good view as strongness and price as a weakness, We need to find place where closest as possible to CN tower and less pricey then them."
   ]
  },
  {
   "cell_type": "markdown",
   "metadata": {},
   "source": [
    "# LIMITATION OF ANALYSIS"
   ]
  },
  {
   "cell_type": "markdown",
   "metadata": {},
   "source": [
    "The rent near CN tower will be very pricey so we can't gaurantee if we can lower the price. Also, we need another data to figure out how many travellers coming to see CN tower every year since not many locals would grab a food near here"
   ]
  },
  {
   "cell_type": "code",
   "execution_count": null,
   "metadata": {},
   "outputs": [],
   "source": []
  }
 ],
 "metadata": {
  "kernelspec": {
   "display_name": "Python 3",
   "language": "python",
   "name": "python3"
  },
  "language_info": {
   "codemirror_mode": {
    "name": "ipython",
    "version": 3
   },
   "file_extension": ".py",
   "mimetype": "text/x-python",
   "name": "python",
   "nbconvert_exporter": "python",
   "pygments_lexer": "ipython3",
   "version": "3.7.4"
  }
 },
 "nbformat": 4,
 "nbformat_minor": 4
}
