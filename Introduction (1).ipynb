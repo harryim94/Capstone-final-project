{
 "cells": [
  {
   "cell_type": "markdown",
   "metadata": {},
   "source": [
    "# Project: Should I open new resturant near CN tower?\n",
    "## OBJECT:\n",
    "###                  Shouldn't be many comperitors near your store with rating more than 6 \n",
    "###                  If competitor's rating is more than6, what's their weakness?\n",
    "###                  It would be nice if there are some hot spots near your store"
   ]
  },
  {
   "cell_type": "markdown",
   "metadata": {},
   "source": [
    "## Background:\n",
    "###                  I will grab data from foursquare such as location and ratings then store them in dataframe \n",
    "###                 Clear Data in the manner which I want\n",
    "###                 Describe the data "
   ]
  },
  {
   "cell_type": "code",
   "execution_count": null,
   "metadata": {},
   "outputs": [],
   "source": []
  }
 ],
 "metadata": {
  "kernelspec": {
   "display_name": "Python 3",
   "language": "python",
   "name": "python3"
  },
  "language_info": {
   "codemirror_mode": {
    "name": "ipython",
    "version": 3
   },
   "file_extension": ".py",
   "mimetype": "text/x-python",
   "name": "python",
   "nbconvert_exporter": "python",
   "pygments_lexer": "ipython3",
   "version": "3.7.4"
  }
 },
 "nbformat": 4,
 "nbformat_minor": 4
}
